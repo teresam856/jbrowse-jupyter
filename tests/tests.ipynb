{
 "cells": [
  {
   "cell_type": "code",
   "execution_count": 2,
   "metadata": {},
   "outputs": [
    {
     "name": "stderr",
     "output_type": "stream",
     "text": [
      "../jbrowse_jupyter/config.py:3: UserWarning: \n",
      "The dash_html_components package is deprecated. Please replace\n",
      "`import dash_html_components as html` with `from dash import html`\n",
      "  import dash_html_components as html\n"
     ]
    }
   ],
   "source": [
    "import sys\n",
    "sys.path.append('../')\n",
    "from jbrowse_jupyter.config import JBrowseConfig"
   ]
  },
  {
   "cell_type": "code",
   "execution_count": 3,
   "metadata": {},
   "outputs": [],
   "source": [
    "# init\n",
    "jbrowse_config = JBrowseConfig()"
   ]
  },
  {
   "cell_type": "code",
   "execution_count": 4,
   "metadata": {},
   "outputs": [
    {
     "name": "stdout",
     "output_type": "stream",
     "text": [
      "name:hg19\n",
      "{'name': 'hg19', 'sequence': {'type': 'ReferenceSequenceTrack', 'trackId': 'hg19-ReferenceSequenceTrack', 'adapter': {'type': 'BgzipFastaAdapter', 'fastaLocation': {'uri': 'https://jbrowse.org/genomes/hg19/fasta/hg19.fa.gz'}, 'faiLocation': {'uri': 'https://jbrowse.org/genomes/hg19/fasta/hg19.fa.gz.fai'}, 'gziLocation': {'uri': 'https://jbrowse.org/genomes/hg19/fasta/hg19.fa.gz.gzi'}}}, 'aliases': ['GRCh37'], 'refNameAliases': {'adapter': {'type': 'RefNameAliasAdapter', 'location': {'uri': 'https://s3.amazonaws.com/jbrowse.org/genomes/hg19/hg19_aliases.txt'}}}}\n"
     ]
    }
   ],
   "source": [
    "# assembly\n",
    "ref_name = {\n",
    "            \"adapter\": {\n",
    "                \"type\": \"RefNameAliasAdapter\",\n",
    "                \"location\": {\n",
    "                    \"uri\": \"https://s3.amazonaws.com/jbrowse.org/genomes/hg19/hg19_aliases.txt\"\n",
    "                }\n",
    "            }\n",
    "        }\n",
    "aliases = [\n",
    "            \"GRCh37\"\n",
    "        ]\n",
    "jbrowse_config.set_assembly(\"https://jbrowse.org/genomes/hg19/fasta/hg19.fa.gz\", aliases, ref_name, True)\n",
    "\n",
    "print(jbrowse_config.config[\"assembly\"])"
   ]
  },
  {
   "cell_type": "code",
   "execution_count": 5,
   "metadata": {},
   "outputs": [
    {
     "name": "stdout",
     "output_type": "stream",
     "text": [
      "{'name': 'my session', 'view': {'id': 'LinearGenomeView', 'type': 'LinearGenomeView', 'tracks': {'type': 'ReferenceSequenceTrack', 'configuration': 'hg19-ReferenceSequenceTrack', 'displays': [{'type': 'LinearBasicDisplay', 'configuration': 'hg19-ReferenceSequenceTrack-LinearBasicDisplay'}]}}}\n"
     ]
    }
   ],
   "source": [
    "# default session\n",
    "\n",
    "jbrowse_config.set_default_session(jbrowse_config.config[\"assembly\"], \"\")\n",
    "\n",
    "print(jbrowse_config.config[\"defaultSession\"])"
   ]
  },
  {
   "cell_type": "code",
   "execution_count": null,
   "metadata": {},
   "outputs": [],
   "source": [
    "# location\n",
    "jbrowse_config.set_location(\"1:2,467,681..2,667,681\")"
   ]
  },
  {
   "cell_type": "code",
   "execution_count": null,
   "metadata": {},
   "outputs": [],
   "source": [
    "# change assembly \n",
    "ref_name = {\n",
    "        }\n",
    "aliases = [\n",
    "        ]\n",
    "jbrowse_config.set_assembly(\"https://s3.amazonaws.com/jbrowse.org/genomes/tomato/SL4.0/S_lycopersicum_chromosomes.4.00.fa.gz\", aliases, ref_name, True)\n",
    "\n",
    "print(jbrowse_config.config[\"assembly\"])"
   ]
  },
  {
   "cell_type": "code",
   "execution_count": null,
   "metadata": {},
   "outputs": [],
   "source": [
    "# change default session\n",
    "jbrowse_config.set_default_session(jbrowse_config.config[\"assembly\"], \"\")\n",
    "\n",
    "print(jbrowse_config.config[\"defaultSession\"])"
   ]
  },
  {
   "cell_type": "code",
   "execution_count": null,
   "metadata": {},
   "outputs": [],
   "source": [
    "# change location\n",
    "jbrowse_config(\"SL4.0ch00:1..9,643,250\")"
   ]
  },
  {
   "cell_type": "code",
   "execution_count": null,
   "metadata": {},
   "outputs": [],
   "source": [
    "# change assembly \n",
    "ref_name = {\n",
    "            \"adapter\": {\n",
    "                \"type\": \"FromConfigAdapter\",\n",
    "                \"adapterId\": \"W6DyPGJ0UU\",\n",
    "                \"features\": [\n",
    "                    {\n",
    "                        \"refName\": \"ctgA\",\n",
    "                        \"uniqueId\": \"alias1\",\n",
    "                        \"aliases\": [\n",
    "                            \"A\",\n",
    "                            \"contigA\"\n",
    "                        ]\n",
    "                    },\n",
    "                    {\n",
    "                        \"refName\": \"ctgB\",\n",
    "                        \"uniqueId\": \"alias2\",\n",
    "                        \"aliases\": [\n",
    "                            \"B\",\n",
    "                            \"contigB\"\n",
    "                        ]\n",
    "                    }\n",
    "                ]\n",
    "            }\n",
    "        }\n",
    "aliases = [\n",
    "            \"vvx\"\n",
    "        ]\n",
    "jbrowse_config.set_assembly(\"volvox.2bit\", aliases, ref_name, False)\n",
    "\n",
    "print(jbrowse_config.config[\"assembly\"])"
   ]
  },
  {
   "cell_type": "code",
   "execution_count": null,
   "metadata": {},
   "outputs": [],
   "source": [
    "jbrowse_config.set_location(\"ctgA:1105..1221\")"
   ]
  },
  {
   "cell_type": "code",
   "execution_count": 6,
   "metadata": {},
   "outputs": [
    {
     "data": {
      "text/html": [
       "\n",
       "        <iframe\n",
       "            width=\"100%\"\n",
       "            height=\"650\"\n",
       "            src=\"http://127.0.0.1:8050/\"\n",
       "            frameborder=\"0\"\n",
       "            allowfullscreen\n",
       "        ></iframe>\n",
       "        "
      ],
      "text/plain": [
       "<IPython.lib.display.IFrame at 0x7fed2888dca0>"
      ]
     },
     "metadata": {},
     "output_type": "display_data"
    }
   ],
   "source": [
    "# display jbrowse\n",
    "\n",
    "jbrowse_config.launch_jbrowse()"
   ]
  }
 ],
 "metadata": {
  "interpreter": {
   "hash": "555e531d3f6fa34b117c8718029008b0793cbd97ba2f45b59b2332740394664c"
  },
  "kernelspec": {
   "display_name": "Python 3.9.2 64-bit ('venv': venv)",
   "language": "python",
   "name": "python3"
  },
  "language_info": {
   "codemirror_mode": {
    "name": "ipython",
    "version": 3
   },
   "file_extension": ".py",
   "mimetype": "text/x-python",
   "name": "python",
   "nbconvert_exporter": "python",
   "pygments_lexer": "ipython3",
   "version": "3.9.2"
  },
  "orig_nbformat": 4
 },
 "nbformat": 4,
 "nbformat_minor": 2
}
