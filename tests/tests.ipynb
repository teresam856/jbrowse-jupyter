{
 "cells": [
  {
   "cell_type": "code",
   "execution_count": 12,
   "metadata": {},
   "outputs": [],
   "source": [
    "import sys\n",
    "sys.path.append('../')\n",
    "from jbrowse_jupyter.config import JBrowseConfig"
   ]
  },
  {
   "cell_type": "code",
   "execution_count": 13,
   "metadata": {},
   "outputs": [],
   "source": [
    "# init\n",
    "jbrowse_config = JBrowseConfig()"
   ]
  },
  {
   "cell_type": "code",
   "execution_count": 14,
   "metadata": {},
   "outputs": [
    {
     "name": "stdout",
     "output_type": "stream",
     "text": [
      "name:hg19\n",
      "{'name': 'hg19', 'sequence': {'type': 'ReferenceSequenceTrack', 'trackId': 'hg19-ReferenceSequenceTrack', 'adapter': {'type': 'BgzipFastaAdapter', 'fastaLocation': {'uri': 'https://jbrowse.org/genomes/hg19/fasta/hg19.fa.gz'}, 'faiLocation': {'uri': 'https://jbrowse.org/genomes/hg19/fasta/hg19.fa.gz.fai'}, 'gziLocation': {'uri': 'https://jbrowse.org/genomes/hg19/fasta/hg19.fa.gz.gzi'}}}, 'aliases': ['GRCh37'], 'refNameAliases': {'adapter': {'type': 'RefNameAliasAdapter', 'location': {'uri': 'https://s3.amazonaws.com/jbrowse.org/genomes/hg19/hg19_aliases.txt'}}}}\n"
     ]
    }
   ],
   "source": [
    "# assembly\n",
    "ref_name = {\n",
    "            \"adapter\": {\n",
    "                \"type\": \"RefNameAliasAdapter\",\n",
    "                \"location\": {\n",
    "                    \"uri\": \"https://s3.amazonaws.com/jbrowse.org/genomes/hg19/hg19_aliases.txt\"\n",
    "                }\n",
    "            }\n",
    "        }\n",
    "aliases = [\n",
    "            \"GRCh37\"\n",
    "        ]\n",
    "jbrowse_config.set_assembly(\"https://jbrowse.org/genomes/hg19/fasta/hg19.fa.gz\", aliases, ref_name, True)\n",
    "\n",
    "print(jbrowse_config.config[\"assembly\"])"
   ]
  },
  {
   "cell_type": "code",
   "execution_count": 15,
   "metadata": {},
   "outputs": [
    {
     "name": "stdout",
     "output_type": "stream",
     "text": [
      "{'name': 'my session', 'view': {'id': 'LinearGenomeView', 'type': 'LinearGenomeView', 'tracks': {'type': 'ReferenceSequenceTrack', 'configuration': 'hg19-ReferenceSequenceTrack', 'displays': [{'type': 'LinearBasicDisplay', 'configuration': 'hg19-ReferenceSequenceTrack-LinearBasicDisplay'}]}}}\n"
     ]
    }
   ],
   "source": [
    "# default session\n",
    "\n",
    "jbrowse_config.set_default_session(jbrowse_config.config[\"assembly\"], \"\")\n",
    "\n",
    "print(jbrowse_config.config[\"defaultSession\"])"
   ]
  },
  {
   "cell_type": "code",
   "execution_count": 16,
   "metadata": {},
   "outputs": [],
   "source": [
    "# location\n",
    "jbrowse_config.set_location(\"1:2,467,681..2,667,681\")"
   ]
  },
  {
   "cell_type": "code",
   "execution_count": 7,
   "metadata": {},
   "outputs": [
    {
     "name": "stdout",
     "output_type": "stream",
     "text": [
      "name:00\n",
      "{'name': '00', 'sequence': {'type': 'ReferenceSequenceTrack', 'trackId': '00-ReferenceSequenceTrack', 'adapter': {'type': 'BgzipFastaAdapter', 'fastaLocation': {'uri': 'https://s3.amazonaws.com/jbrowse.org/genomes/tomato/SL4.0/S_lycopersicum_chromosomes.4.00.fa.gz'}, 'faiLocation': {'uri': 'https://s3.amazonaws.com/jbrowse.org/genomes/tomato/SL4.0/S_lycopersicum_chromosomes.4.00.fa.gz.fai'}, 'gziLocation': {'uri': 'https://s3.amazonaws.com/jbrowse.org/genomes/tomato/SL4.0/S_lycopersicum_chromosomes.4.00.fa.gz.gzi'}}}, 'aliases': [], 'refNameAliases': {}}\n"
     ]
    }
   ],
   "source": [
    "# change assembly \n",
    "ref_name = {\n",
    "        }\n",
    "aliases = [\n",
    "        ]\n",
    "jbrowse_config.set_assembly(\"https://s3.amazonaws.com/jbrowse.org/genomes/tomato/SL4.0/S_lycopersicum_chromosomes.4.00.fa.gz\", aliases, ref_name, True)\n",
    "\n",
    "print(jbrowse_config.config[\"assembly\"])"
   ]
  },
  {
   "cell_type": "code",
   "execution_count": 8,
   "metadata": {},
   "outputs": [
    {
     "name": "stdout",
     "output_type": "stream",
     "text": [
      "{'name': 'my session', 'view': {'id': 'LinearGenomeView', 'type': 'LinearGenomeView', 'tracks': {'type': 'ReferenceSequenceTrack', 'configuration': '00-ReferenceSequenceTrack', 'displays': [{'type': 'LinearBasicDisplay', 'configuration': '00-ReferenceSequenceTrack-LinearBasicDisplay'}]}}}\n"
     ]
    }
   ],
   "source": [
    "# change default session\n",
    "jbrowse_config.set_default_session(jbrowse_config.config[\"assembly\"], \"\")\n",
    "\n",
    "print(jbrowse_config.config[\"defaultSession\"])"
   ]
  },
  {
   "cell_type": "code",
   "execution_count": 10,
   "metadata": {},
   "outputs": [],
   "source": [
    "# change location\n",
    "jbrowse_config.set_location(\"SL4.0ch00:1..9,643,250\")"
   ]
  },
  {
   "cell_type": "code",
   "execution_count": 11,
   "metadata": {},
   "outputs": [
    {
     "ename": "AttributeError",
     "evalue": "'NoneType' object has no attribute 'group'",
     "output_type": "error",
     "traceback": [
      "\u001b[0;31m---------------------------------------------------------------------------\u001b[0m",
      "\u001b[0;31mAttributeError\u001b[0m                            Traceback (most recent call last)",
      "\u001b[0;32m<ipython-input-11-d18f24638de5>\u001b[0m in \u001b[0;36m<module>\u001b[0;34m\u001b[0m\n\u001b[1;32m     27\u001b[0m             \u001b[0;34m\"vvx\"\u001b[0m\u001b[0;34m\u001b[0m\u001b[0;34m\u001b[0m\u001b[0m\n\u001b[1;32m     28\u001b[0m         ]\n\u001b[0;32m---> 29\u001b[0;31m \u001b[0mjbrowse_config\u001b[0m\u001b[0;34m.\u001b[0m\u001b[0mset_assembly\u001b[0m\u001b[0;34m(\u001b[0m\u001b[0;34m\"volvox.2bit\"\u001b[0m\u001b[0;34m,\u001b[0m \u001b[0maliases\u001b[0m\u001b[0;34m,\u001b[0m \u001b[0mref_name\u001b[0m\u001b[0;34m,\u001b[0m \u001b[0;32mFalse\u001b[0m\u001b[0;34m)\u001b[0m\u001b[0;34m\u001b[0m\u001b[0;34m\u001b[0m\u001b[0m\n\u001b[0m\u001b[1;32m     30\u001b[0m \u001b[0;34m\u001b[0m\u001b[0m\n\u001b[1;32m     31\u001b[0m \u001b[0mprint\u001b[0m\u001b[0;34m(\u001b[0m\u001b[0mjbrowse_config\u001b[0m\u001b[0;34m.\u001b[0m\u001b[0mconfig\u001b[0m\u001b[0;34m[\u001b[0m\u001b[0;34m\"assembly\"\u001b[0m\u001b[0;34m]\u001b[0m\u001b[0;34m)\u001b[0m\u001b[0;34m\u001b[0m\u001b[0;34m\u001b[0m\u001b[0m\n",
      "\u001b[0;32m~/jbrowse-jupyter/jbrowse_jupyter/config.py\u001b[0m in \u001b[0;36mset_assembly\u001b[0;34m(self, assembly_data, aliases, refname_aliases, bgzip)\u001b[0m\n\u001b[1;32m     38\u001b[0m     \u001b[0;32mdef\u001b[0m \u001b[0mset_assembly\u001b[0m \u001b[0;34m(\u001b[0m\u001b[0mself\u001b[0m\u001b[0;34m,\u001b[0m \u001b[0massembly_data\u001b[0m\u001b[0;34m,\u001b[0m \u001b[0maliases\u001b[0m\u001b[0;34m,\u001b[0m \u001b[0mrefname_aliases\u001b[0m\u001b[0;34m,\u001b[0m \u001b[0mbgzip\u001b[0m\u001b[0;34m=\u001b[0m \u001b[0;32mFalse\u001b[0m\u001b[0;34m)\u001b[0m\u001b[0;34m:\u001b[0m\u001b[0;34m\u001b[0m\u001b[0;34m\u001b[0m\u001b[0m\n\u001b[1;32m     39\u001b[0m         \u001b[0;32mif\u001b[0m \u001b[0;32mnot\u001b[0m \u001b[0mbgzip\u001b[0m\u001b[0;34m:\u001b[0m\u001b[0;34m\u001b[0m\u001b[0;34m\u001b[0m\u001b[0m\n\u001b[0;32m---> 40\u001b[0;31m             \u001b[0mself\u001b[0m\u001b[0;34m.\u001b[0m\u001b[0munzipped_assembly\u001b[0m\u001b[0;34m(\u001b[0m\u001b[0massembly_data\u001b[0m\u001b[0;34m,\u001b[0m \u001b[0maliases\u001b[0m\u001b[0;34m,\u001b[0m \u001b[0mrefname_aliases\u001b[0m\u001b[0;34m)\u001b[0m\u001b[0;34m\u001b[0m\u001b[0;34m\u001b[0m\u001b[0m\n\u001b[0m\u001b[1;32m     41\u001b[0m         \u001b[0;32melse\u001b[0m\u001b[0;34m:\u001b[0m\u001b[0;34m\u001b[0m\u001b[0;34m\u001b[0m\u001b[0m\n\u001b[1;32m     42\u001b[0m             \u001b[0mself\u001b[0m\u001b[0;34m.\u001b[0m\u001b[0mzipped_assembly\u001b[0m\u001b[0;34m(\u001b[0m\u001b[0massembly_data\u001b[0m\u001b[0;34m,\u001b[0m \u001b[0maliases\u001b[0m\u001b[0;34m,\u001b[0m \u001b[0mrefname_aliases\u001b[0m\u001b[0;34m)\u001b[0m\u001b[0;34m\u001b[0m\u001b[0;34m\u001b[0m\u001b[0m\n",
      "\u001b[0;32m~/jbrowse-jupyter/jbrowse_jupyter/config.py\u001b[0m in \u001b[0;36munzipped_assembly\u001b[0;34m(self, assembly_data, aliases, refname_aliases)\u001b[0m\n\u001b[1;32m     44\u001b[0m \u001b[0;34m\u001b[0m\u001b[0m\n\u001b[1;32m     45\u001b[0m     \u001b[0;32mdef\u001b[0m \u001b[0munzipped_assembly\u001b[0m\u001b[0;34m(\u001b[0m\u001b[0mself\u001b[0m\u001b[0;34m,\u001b[0m \u001b[0massembly_data\u001b[0m\u001b[0;34m,\u001b[0m \u001b[0maliases\u001b[0m \u001b[0;34m=\u001b[0m \u001b[0;34m[\u001b[0m\u001b[0;34m]\u001b[0m\u001b[0;34m,\u001b[0m \u001b[0mrefname_aliases\u001b[0m \u001b[0;34m=\u001b[0m \u001b[0;34m[\u001b[0m\u001b[0;34m]\u001b[0m\u001b[0;34m)\u001b[0m\u001b[0;34m:\u001b[0m\u001b[0;34m\u001b[0m\u001b[0;34m\u001b[0m\u001b[0m\n\u001b[0;32m---> 46\u001b[0;31m         \u001b[0mname\u001b[0m \u001b[0;34m=\u001b[0m \u001b[0mself\u001b[0m\u001b[0;34m.\u001b[0m\u001b[0mget_name\u001b[0m\u001b[0;34m(\u001b[0m\u001b[0massembly_data\u001b[0m\u001b[0;34m)\u001b[0m\u001b[0;34m\u001b[0m\u001b[0;34m\u001b[0m\u001b[0m\n\u001b[0m\u001b[1;32m     47\u001b[0m \u001b[0;34m\u001b[0m\u001b[0m\n\u001b[1;32m     48\u001b[0m         self.config['assembly'] = {\n",
      "\u001b[0;32m~/jbrowse-jupyter/jbrowse_jupyter/config.py\u001b[0m in \u001b[0;36mget_name\u001b[0;34m(self, assembly_file)\u001b[0m\n\u001b[1;32m     92\u001b[0m \u001b[0;34m\u001b[0m\u001b[0m\n\u001b[1;32m     93\u001b[0m     \u001b[0;32mdef\u001b[0m \u001b[0mget_name\u001b[0m\u001b[0;34m(\u001b[0m\u001b[0mself\u001b[0m\u001b[0;34m,\u001b[0m \u001b[0massembly_file\u001b[0m\u001b[0;34m)\u001b[0m\u001b[0;34m:\u001b[0m\u001b[0;34m\u001b[0m\u001b[0;34m\u001b[0m\u001b[0m\n\u001b[0;32m---> 94\u001b[0;31m         \u001b[0;32mreturn\u001b[0m \u001b[0mre\u001b[0m\u001b[0;34m.\u001b[0m\u001b[0msearch\u001b[0m\u001b[0;34m(\u001b[0m\u001b[0;34mr'(\\w+)\\.(?:fa|fasta|fa\\.gz)$'\u001b[0m\u001b[0;34m,\u001b[0m \u001b[0massembly_file\u001b[0m\u001b[0;34m)\u001b[0m\u001b[0;34m.\u001b[0m\u001b[0mgroup\u001b[0m\u001b[0;34m(\u001b[0m\u001b[0;36m1\u001b[0m\u001b[0;34m)\u001b[0m\u001b[0;34m\u001b[0m\u001b[0;34m\u001b[0m\u001b[0m\n\u001b[0m\u001b[1;32m     95\u001b[0m \u001b[0;34m\u001b[0m\u001b[0m\n\u001b[1;32m     96\u001b[0m     \u001b[0;31m########## CORRECT DEFAULT SESSION ###########\u001b[0m\u001b[0;34m\u001b[0m\u001b[0;34m\u001b[0m\u001b[0;34m\u001b[0m\u001b[0m\n",
      "\u001b[0;31mAttributeError\u001b[0m: 'NoneType' object has no attribute 'group'"
     ]
    }
   ],
   "source": [
    "# change assembly \n",
    "ref_name = {\n",
    "            \"adapter\": {\n",
    "                \"type\": \"FromConfigAdapter\",\n",
    "                \"adapterId\": \"W6DyPGJ0UU\",\n",
    "                \"features\": [\n",
    "                    {\n",
    "                        \"refName\": \"ctgA\",\n",
    "                        \"uniqueId\": \"alias1\",\n",
    "                        \"aliases\": [\n",
    "                            \"A\",\n",
    "                            \"contigA\"\n",
    "                        ]\n",
    "                    },\n",
    "                    {\n",
    "                        \"refName\": \"ctgB\",\n",
    "                        \"uniqueId\": \"alias2\",\n",
    "                        \"aliases\": [\n",
    "                            \"B\",\n",
    "                            \"contigB\"\n",
    "                        ]\n",
    "                    }\n",
    "                ]\n",
    "            }\n",
    "        }\n",
    "aliases = [\n",
    "            \"vvx\"\n",
    "        ]\n",
    "jbrowse_config.set_assembly(\"volvox.2bit\", aliases, ref_name, False)\n",
    "\n",
    "print(jbrowse_config.config[\"assembly\"])"
   ]
  },
  {
   "cell_type": "code",
   "execution_count": null,
   "metadata": {},
   "outputs": [],
   "source": [
    "jbrowse_config.set_location(\"ctgA:1105..1221\")"
   ]
  },
  {
   "cell_type": "code",
   "execution_count": 18,
   "metadata": {},
   "outputs": [
    {
     "data": {
      "text/html": [
       "\n",
       "        <iframe\n",
       "            width=\"100%\"\n",
       "            height=\"650\"\n",
       "            src=\"http://127.0.0.1:8050/\"\n",
       "            frameborder=\"0\"\n",
       "            allowfullscreen\n",
       "        ></iframe>\n",
       "        "
      ],
      "text/plain": [
       "<IPython.lib.display.IFrame at 0x7fea4852d640>"
      ]
     },
     "metadata": {},
     "output_type": "display_data"
    }
   ],
   "source": [
    "# display jbrowse\n",
    "\n",
    "jbrowse_config.launch_jbrowse()"
   ]
  }
 ],
 "metadata": {
  "interpreter": {
   "hash": "555e531d3f6fa34b117c8718029008b0793cbd97ba2f45b59b2332740394664c"
  },
  "kernelspec": {
   "display_name": "Python 3.9.2 64-bit ('venv': venv)",
   "language": "python",
   "name": "python3"
  },
  "language_info": {
   "codemirror_mode": {
    "name": "ipython",
    "version": 3
   },
   "file_extension": ".py",
   "mimetype": "text/x-python",
   "name": "python",
   "nbconvert_exporter": "python",
   "pygments_lexer": "ipython3",
   "version": "3.9.2"
  },
  "orig_nbformat": 4
 },
 "nbformat": 4,
 "nbformat_minor": 2
}
